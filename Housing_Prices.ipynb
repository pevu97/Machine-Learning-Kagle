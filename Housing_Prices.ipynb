{
  "nbformat": 4,
  "nbformat_minor": 0,
  "metadata": {
    "colab": {
      "provenance": [],
      "authorship_tag": "ABX9TyM4hVTjAJGnMwUOhVks8MN6",
      "include_colab_link": true
    },
    "kernelspec": {
      "name": "python3",
      "display_name": "Python 3"
    },
    "language_info": {
      "name": "python"
    }
  },
  "cells": [
    {
      "cell_type": "markdown",
      "metadata": {
        "id": "view-in-github",
        "colab_type": "text"
      },
      "source": [
        "<a href=\"https://colab.research.google.com/github/pevu97/Machine-Learning-Kagle/blob/main/Housing_Prices.ipynb\" target=\"_parent\"><img src=\"https://colab.research.google.com/assets/colab-badge.svg\" alt=\"Open In Colab\"/></a>"
      ]
    },
    {
      "cell_type": "markdown",
      "source": [
        "### Housing Prices Competition\n",
        "\n",
        "\n",
        "\n",
        "Ask a home buyer to describe their dream house, and they probably won't begin with the height of the basement ceiling or the proximity to an east-west railroad. But this playground competition's dataset proves that much more influences price negotiations than the number of bedrooms or a white-picket fence.\n",
        "\n",
        "With 79 explanatory variables describing (almost) every aspect of residential homes in Ames, Iowa, this competition challenges you to predict the final price of each home."
      ],
      "metadata": {
        "id": "uygZHz9m9fck"
      }
    },
    {
      "cell_type": "markdown",
      "source": [
        "### Imports"
      ],
      "metadata": {
        "id": "Kwn6A3VF9kYJ"
      }
    },
    {
      "cell_type": "code",
      "source": [
        "import matplotlib.pyplot as plt\n",
        "import plotly.express as px\n",
        "import pandas as pd\n",
        "import numpy as np\n",
        "import seaborn as sns\n",
        "\n",
        "import os\n",
        "for dirname, _, filenames in os.walk('/kaggle/input'):\n",
        "    for filename in filenames:\n",
        "        print(os.path.join(dirname, filename))"
      ],
      "metadata": {
        "id": "7i9lvm0E9ozW"
      },
      "execution_count": 335,
      "outputs": []
    },
    {
      "cell_type": "markdown",
      "source": [
        "### Data import\n"
      ],
      "metadata": {
        "id": "XPihMDYozHpo"
      }
    },
    {
      "cell_type": "code",
      "source": [
        "train = pd.read_csv(r'train.csv', index_col='Id').select_dtypes(include=[float, int])\n",
        "to_predict = pd.read_csv(r'test.csv',index_col='Id').select_dtypes(include=[float, int])"
      ],
      "metadata": {
        "id": "1U4yBfKW9pH5"
      },
      "execution_count": 369,
      "outputs": []
    },
    {
      "cell_type": "markdown",
      "source": [
        "### Data Analysis"
      ],
      "metadata": {
        "id": "L0TLhxJ37CyF"
      }
    },
    {
      "cell_type": "code",
      "source": [
        "X = train.drop('SalePrice', axis=1)\n",
        "y = train['SalePrice']"
      ],
      "metadata": {
        "collapsed": true,
        "id": "iz8Dj7WSHRxp"
      },
      "execution_count": 370,
      "outputs": []
    },
    {
      "cell_type": "code",
      "source": [
        "columns = X.corrwith(y).sort_values(ascending=False)[:13].index.tolist()\n"
      ],
      "metadata": {
        "id": "dVuKfOjMePxB"
      },
      "execution_count": 378,
      "outputs": []
    },
    {
      "cell_type": "code",
      "source": [
        "X = X[columns]\n",
        "to_predict = to_predict[columns]"
      ],
      "metadata": {
        "id": "baepGEh0pM99"
      },
      "execution_count": 379,
      "outputs": []
    },
    {
      "cell_type": "code",
      "source": [
        "from sklearn.model_selection import train_test_split\n",
        "\n",
        "X_train, X_test, y_train, y_test = train_test_split(X, y)"
      ],
      "metadata": {
        "id": "LkHRVs3U-4Cn"
      },
      "execution_count": 380,
      "outputs": []
    },
    {
      "cell_type": "code",
      "source": [
        "from sklearn.preprocessing import StandardScaler\n",
        "\n",
        "scaler = StandardScaler()\n",
        "X_train = scaler.fit_transform(X_train)\n",
        "X_test_scaled = scaler.transform(X_test)\n",
        "\n",
        "to_predict_scaled = scaler.transform(to_predict)"
      ],
      "metadata": {
        "id": "Xf60TyrIstWH"
      },
      "execution_count": 381,
      "outputs": []
    },
    {
      "cell_type": "code",
      "source": [
        "from xgboost import XGBRegressor\n",
        "\n",
        "model = XGBRegressor(random_state=42, n_estimators=100, max_depth=30)\n",
        "model.fit(X_train, y_train)\n",
        "print(model.score(X_train, y_train))"
      ],
      "metadata": {
        "colab": {
          "base_uri": "https://localhost:8080/"
        },
        "id": "CZoeum-3qXhW",
        "outputId": "2c2057ba-fe92-4b56-adf0-47fa48e9e462"
      },
      "execution_count": 436,
      "outputs": [
        {
          "output_type": "stream",
          "name": "stdout",
          "text": [
            "0.9999300241470337\n"
          ]
        }
      ]
    },
    {
      "cell_type": "code",
      "source": [
        "model.score(X_test_scaled, y_test)\n"
      ],
      "metadata": {
        "colab": {
          "base_uri": "https://localhost:8080/"
        },
        "id": "jxsqjsXZyCfm",
        "outputId": "c125221a-cc7e-43e8-b2e9-979a32fa0b01"
      },
      "execution_count": 435,
      "outputs": [
        {
          "output_type": "execute_result",
          "data": {
            "text/plain": [
              "0.7808198928833008"
            ]
          },
          "metadata": {},
          "execution_count": 435
        }
      ]
    },
    {
      "cell_type": "code",
      "source": [
        "y_predict = model.predict(to_predict)"
      ],
      "metadata": {
        "id": "wBhXbR0FVvjc",
        "outputId": "56f8a697-b7e2-42d2-c334-1c8a3abd9f86",
        "colab": {
          "base_uri": "https://localhost:8080/"
        }
      },
      "execution_count": null,
      "outputs": [
        {
          "output_type": "stream",
          "name": "stderr",
          "text": [
            "/usr/local/lib/python3.11/dist-packages/sklearn/utils/validation.py:2732: UserWarning: X has feature names, but RandomForestRegressor was fitted without feature names\n",
            "  warnings.warn(\n"
          ]
        }
      ]
    },
    {
      "cell_type": "code",
      "source": [
        "predict = pd.DataFrame(y_predict, columns=['SalePrice'])\n",
        "predict.index = test.index\n",
        "\n",
        "\n",
        "predict.to_csv('predict.csv', index=True)"
      ],
      "metadata": {
        "id": "T3-vhP42hjC1"
      },
      "execution_count": null,
      "outputs": []
    },
    {
      "cell_type": "code",
      "source": [],
      "metadata": {
        "id": "RHxpO0giJ8by"
      },
      "execution_count": null,
      "outputs": []
    }
  ]
}